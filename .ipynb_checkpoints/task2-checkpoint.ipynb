{
 "cells": [
  {
   "cell_type": "code",
   "execution_count": null,
   "metadata": {
    "collapsed": true
   },
   "outputs": [],
   "source": [
    "import numpy as np\n",
    "import pandas as pd\n",
    "import math\n",
    "import matplotlib as mpl\n",
    "import matplotlib.pyplot as plt\n",
    "import matplotlib.cm as cm\n",
    "import scipy\n",
    "import random as r\n",
    "from scipy import ndimage\n",
    "from scipy.misc import toimage\n",
    "%matplotlib inline\n",
    "from skimage.io import imread\n",
    "from skimage import feature"
   ]
  },
  {
   "cell_type": "code",
   "execution_count": null,
   "metadata": {
    "collapsed": false
   },
   "outputs": [],
   "source": [
    "#Task 2\n",
    "\n",
    "\n",
    "# PreProcessing. \n",
    "#\n",
    "# 1. read an image from HW2/Images/Q2/...\"\n",
    "# 2. convert the colored image into a grayscale\n",
    "# 3. apply canny edge detection to the grayscale image given sigma and \n",
    "# threshold values.\n",
    "# 4. return the 2D - edge matrix. \n",
    "#\n",
    "# \n",
    "#Use Canny Edge detector to convert to points\n",
    "def image2cannyEdges(image,sigma=1,threshold=None):\n",
    "    #print \"Start image2cannyEdges\"\n",
    "    return gray2cannyEdges(rgb2gray(image),sigma,threshold)\n",
    "\n",
    "def gray2cannyEdges(image, sigma=1,threshold=None):\n",
    "    #print \"Start gray 2cannyEdges\"\n",
    "    return feature.canny(image,sigma,threshold)\n",
    "\n",
    "#Convert RGB 2 GRAY by calculating average pixel value\n",
    "def rgb2gray(image):\n",
    "    #print \"Start RGB 2 GRAY \"\n",
    "    gray = np.zeros((image.shape[0], image.shape[1])) # init 2D numpy array\n",
    "    for rownum in range(len(image)):\n",
    "        for colnum in range(len(image[rownum])):\n",
    "            gray[rownum][colnum] = average_pixel_value(image[rownum][colnum])\n",
    "    plt.imshow(gray,cmap=plt.cm.gray)\n",
    "    \"Image Grayscale\"\n",
    "    plt.show()\n",
    "    return gray\n",
    "\n",
    "def average_pixel_value(pixel):\n",
    "    return (int(pixel[0])+int(pixel[1])+int(pixel[2]))/3\n",
    "    \n"
   ]
  },
  {
   "cell_type": "code",
   "execution_count": null,
   "metadata": {
    "collapsed": false
   },
   "outputs": [],
   "source": [
    "#Implement Hough Transform to identify center of circles. \n",
    "\n",
    "#Proceed to convert Edge Matrix to Hough Transform. \n",
    "\n",
    "#Returns H_Matrix\n",
    "def convertEdgeArray2HoughMatrix(edges,radius,usegradient):\n",
    "    print \"Start convert Edge Array 2 Hough Accumulation Matrix\"\n",
    "\n",
    "    x_dim = edges.shape[0]\n",
    "    y_dim = edges.shape[1]\n",
    "    H_matrix = np.zeros([x_dim,y_dim])\n",
    "    \n",
    "    #Scan edge matrix for edges.\n",
    "    for x_i in range(x_dim):\n",
    "        for y_j in range(y_dim):\n",
    "            \n",
    "            #If the pixel is an edge, calculate potential circle. \n",
    "            if edges[x_i][y_j] == 1:\n",
    "                \n",
    "                # For every possible x value, solve for both y values that satisfies the /\n",
    "                # equation of a circle.\n",
    "                #\n",
    "                \n",
    "                x_values = []\n",
    "                y_values = []                       \n",
    "                for x_temp in range(0,radius+1):\n",
    "\n",
    "                    y_temp = int(math.sqrt(math.pow(radius,2)-math.pow(x_temp,2)))\n",
    "                    x_values.append(x_temp)\n",
    "                    y_values.append(y_temp)\n",
    "\n",
    "                    \n",
    "                # Add all of these values that may be the center of the circle that includes edge\n",
    "                # x_i,y_j to the H_Matrix\n",
    "                #\n",
    "                # We condition for efficiency that the center of the circle must exist in the image\n",
    "                for i in range(0,len(x_values)):\n",
    "                    x_temp = x_values[i]\n",
    "                    y_temp = y_values[i]\n",
    "\n",
    "                    #top\n",
    "                    if y_j+y_temp < y_dim:\n",
    "                        #left\n",
    "                        if x_i-x_temp > 0:\n",
    "                            H_matrix[x_i-x_temp][y_j+y_temp]+=1\n",
    "                        #right\n",
    "                        if x_i+x_temp < x_dim:\n",
    "                            H_matrix[x_i+x_temp][y_j+y_temp]+=1\n",
    "                    #bottom\n",
    "                    if y_j-y_temp > 0:\n",
    "                        #left\n",
    "                        if x_i-x_temp > 0:\n",
    "                            H_matrix[x_i-x_temp][y_j-y_temp]+=1\n",
    "                        #right\n",
    "                        if x_i+x_temp < x_dim:\n",
    "                            H_matrix[x_i+x_temp][y_j-y_temp]+=1\n",
    "    \n",
    "    plt.imshow(H_matrix,cmap=plt.cm.gray)\n",
    "    print \"Image H-Matrix\"\n",
    "    plt.show()\n",
    "    return H_matrix\n"
   ]
  },
  {
   "cell_type": "code",
   "execution_count": null,
   "metadata": {
    "collapsed": false
   },
   "outputs": [],
   "source": [
    "def get_centers_from_H_trans(radius,h):\n",
    "    centers_count = []\n",
    "    df = pd.DataFrame(h)\n",
    "    # for each rectangle in the h_trans. \n",
    "    for i in range(0,df.shape[0],3*radius):\n",
    "        for j in range(0,df.shape[1],3*radius):\n",
    "\n",
    "            #print \"i: %s, j: %j\" % (i,j)\n",
    "            df_temp = df.ix[i:i+3*radius-1,j:j+3*radius-1]\n",
    "\n",
    "            cutoff_temp = np.percentile(df_temp,99.9)\n",
    "            for k in range(0,df_temp.shape[0]-1): #We must handle border cases.\n",
    "\n",
    "                for m in range(0,df_temp.shape[1]-1):#We must handle border cases.\n",
    "                    # print \"i: %s, j: %s, k: %s, m: %s, cutoff: %s\" % (i,j,k,m,cutoff_temp)\n",
    "                    if df_temp.iloc[k,m] >= cutoff_temp:\n",
    "                        #print \"hyoi\"\n",
    "                        centers_count.append([i+k,j+m])\n",
    "    return centers_count"
   ]
  },
  {
   "cell_type": "code",
   "execution_count": null,
   "metadata": {
    "collapsed": false
   },
   "outputs": [],
   "source": [
    "#Detect Circles\n",
    "#\n",
    "# Given im = image\n",
    "#       radius = radius of circles\n",
    "#       usegradient = gradient used for Canny Edge Detection\n",
    "#\n",
    "# 1. convert file to image if necessary. \n",
    "# 2. Computes Edge using Canny Edge Detection\n",
    "# 3. Computes Hough Accumulation Matrix\n",
    "# 4. Computes most likely circle centers\n",
    "# 5. Returns list of circle centers\n",
    "# # # # # # # # # # # # # # # # # # # # # # # # # #\n",
    "\n",
    "def detectCircles(im,radius,usegradient,sigma=1):\n",
    "    \n",
    "    # / -  1 - / # \n",
    "    #If im = the name of the file convert into image. \n",
    "    if (type(im)==str):\n",
    "        im = imread(im)\n",
    "        \n",
    "    #If im = an image, we proceed.\n",
    "    \n",
    "    # / -  2 - / # \n",
    "    cannyedges = image2cannyEdges(im,sigma,usegradient)\n",
    "\n",
    "    # / -  3 - / # \n",
    "    h_trans = convertEdgeArray2HoughMatrix(cannyedges,radius,usegradient)\n",
    "\n",
    "    #Identify Max Values which are Circle Centers.\n",
    "    \n",
    "    # / -  4 & 5 - / # \n",
    "    return get_centers_from_H_trans(radius,h_trans)\n"
   ]
  },
  {
   "cell_type": "code",
   "execution_count": null,
   "metadata": {
    "collapsed": false
   },
   "outputs": [],
   "source": [
    "#Read Image\n",
    "#im_moon_craters = imread(\"HW2/Images/Q2/MoonCraters.jpg\")\n",
    "im_planets = imread(\"HW2/Images/Q2/Planets.jpeg\")\n",
    "#im_colorful = imread(\"HW2/Images/Q2/colorful3.jpg\")\n",
    "#im_ladybug = imread(\"HW2/Images/Q2/ladybug.jpg\")\n",
    "radius = 65\n",
    "usegradient=0.5\n",
    "plt.imshow(im_planets)\n",
    "plt.show()\n",
    "#df_im1 = detectCircles(im_moon_craters,radius,usegradient)\n",
    "#draw1 = draw_circles_on_image(im_moon_craters,df_im1,radius)\n",
    "\n",
    "df_im2 = detectCircles(im_planets,radius,usegradient)\n",
    "draw2 = draw_circles_on_image(im_moon_craters,df_im2,radius)\n",
    "\n",
    "#df_im3 = detectCircles(im_colorful,radius,usegradient)\n",
    "#df_im4 = detectCircles(im_ladybug,radius,usegradient)\n",
    "    \n",
    "#circle_centers_of_images = [df_im1,df_im2,df_im3,df_im4]\n",
    "   "
   ]
  },
  {
   "cell_type": "code",
   "execution_count": null,
   "metadata": {
    "collapsed": false
   },
   "outputs": [],
   "source": [
    "# Draw circles on images\n",
    "# \n",
    "# Given image   = original image.\n",
    "#       centers = centers computed based on detectCircles\n",
    "#        \n",
    "def draw_circles_on_image(image,centers,radius):\n",
    "    \n",
    "    for i in range(len(centers)):\n",
    "        #Draw a circle\n",
    "        x,y = centers[i]\n",
    "        circle_area = ( radius ** 2 ) * math.pi\n",
    "        plt.scatter(y,x , s=math.pow(circle_area,.5), alpha=1.0)\n",
    "\n",
    "    plt.imshow(image, cmap = cm.Greys_r)\n",
    "    plt.show()\n",
    "    return plt"
   ]
  },
  {
   "cell_type": "code",
   "execution_count": null,
   "metadata": {
    "collapsed": false,
    "scrolled": true
   },
   "outputs": [],
   "source": [
    "#circle_centers_of_images\n",
    "#draw2 = draw_circles_on_image(im_planets,circle_centers_of_images[1])\n",
    "#draw3 = draw_circles_on_image(im_colorful,circle_centers_of_images[2])\n",
    "#draw4 = draw_circles_on_image(im_ladybug,circle_centers_of_images[3])\n"
   ]
  },
  {
   "cell_type": "code",
   "execution_count": null,
   "metadata": {
    "collapsed": false
   },
   "outputs": [],
   "source": [
    "x,y = df_im1[2]"
   ]
  },
  {
   "cell_type": "code",
   "execution_count": null,
   "metadata": {
    "collapsed": false
   },
   "outputs": [],
   "source": [
    "x"
   ]
  },
  {
   "cell_type": "code",
   "execution_count": null,
   "metadata": {
    "collapsed": false
   },
   "outputs": [],
   "source": [
    "area = ( radius ** 2 ) * math.pi"
   ]
  },
  {
   "cell_type": "code",
   "execution_count": null,
   "metadata": {
    "collapsed": false
   },
   "outputs": [],
   "source": [
    "area"
   ]
  },
  {
   "cell_type": "code",
   "execution_count": null,
   "metadata": {
    "collapsed": true
   },
   "outputs": [],
   "source": []
  }
 ],
 "metadata": {
  "kernelspec": {
   "display_name": "Python 2",
   "language": "python",
   "name": "python2"
  },
  "language_info": {
   "codemirror_mode": {
    "name": "ipython",
    "version": 2
   },
   "file_extension": ".py",
   "mimetype": "text/x-python",
   "name": "python",
   "nbconvert_exporter": "python",
   "pygments_lexer": "ipython2",
   "version": "2.7.10"
  }
 },
 "nbformat": 4,
 "nbformat_minor": 0
}
